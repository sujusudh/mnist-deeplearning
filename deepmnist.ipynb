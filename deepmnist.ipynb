{
 "cells": [
  {
   "cell_type": "code",
   "execution_count": 9,
   "metadata": {},
   "outputs": [
    {
     "name": "stdout",
     "output_type": "stream",
     "text": [
      "the training data shape is  (60000, 28, 28)\n",
      "the testing data shape is (10000, 28, 28)\n"
     ]
    }
   ],
   "source": [
    "####image recognition of mnist dataset using deep learning\n",
    "import tensorflow as tf #import library \n",
    "(x_train, y_train), (x_test, y_test) = tf.keras.datasets.mnist.load_data()\n"
   ]
  },
  {
   "cell_type": "code",
   "execution_count": 10,
   "metadata": {},
   "outputs": [
    {
     "name": "stdout",
     "output_type": "stream",
     "text": [
      "1\n"
     ]
    },
    {
     "data": {
      "text/plain": [
       "<matplotlib.image.AxesImage at 0x7f180847a240>"
      ]
     },
     "execution_count": 10,
     "metadata": {},
     "output_type": "execute_result"
    },
    {
     "data": {
      "image/png": "[encoded data removed]",
      "text/plain": [
       "<Figure size 432x288 with 1 Axes>"
      ]
     },
     "metadata": {
      "needs_background": "light"
     },
     "output_type": "display_data"
    }
   ],
   "source": [
    "##to plot image \n",
    "import matplotlib.pyplot as plt#to plot the image\n",
    "%matplotlib inline \n",
    "import random\n",
    "image_index= random.randint(7000,7010)\n",
    "\n",
    "print(y_train[image_index])\n",
    "plt.imshow(x_train[image_index],cmap='Greys')\n"
   ]
  },
  {
   "cell_type": "code",
   "execution_count": null,
   "metadata": {},
   "outputs": [],
   "source": [
    "#to identify the shape of dataset\n",
    "print(\"the training data shape is \",x_train.shape)#(60000,28,28)----60000 images with 28x28\n",
    "print(\"the testing data shape is\",x_test.shape)#(10000,28,28)------10000 images with 28x28"
   ]
  },
  {
   "cell_type": "code",
   "execution_count": 11,
   "metadata": {},
   "outputs": [
    {
     "name": "stdout",
     "output_type": "stream",
     "text": [
      "x_train after reshaping (60000, 28, 28, 1)\n",
      "x_train.shape:after normalising (60000, 28, 28, 1)\n"
     ]
    }
   ],
   "source": [
    "##preprocess the input data\n",
    "x_train=x_train.reshape(x_train.shape[0],28,28,1)#to convert data to 4dims\n",
    "x_test=x_test.reshape(x_test.shape[0],28,28,1)\n",
    "print(\"x_train after reshaping\",x_train.shape)\n",
    "input_shape=(28,28,1)\n",
    "x_train=x_train.astype('float32') #for float values\n",
    "x_test=x_test.astype('float32')\n",
    "x_train/=255 #normalising the values\n",
    "x_test/=255\n",
    "print('x_train.shape:after normalising',x_train.shape)"
   ]
  },
  {
   "cell_type": "code",
   "execution_count": 12,
   "metadata": {},
   "outputs": [],
   "source": [
    "#import keras module having models and layers\n",
    "from keras.models import Sequential\n",
    "from keras.layers import Dense, Conv2D, Dropout, Flatten, MaxPooling2D\n",
    "def deep_model():\n",
    "    \n",
    "    model=Sequential()\n",
    "    model.add(Conv2D(28, kernel_size=(3,3), input_shape=input_shape))\n",
    "    model.add(MaxPooling2D(pool_size=(2,2)))\n",
    "    model.add(Flatten())#to convert 2D to 1D array\n",
    "    model.add(Dense(128, activation=tf.nn.relu))\n",
    "    model.add(Dropout(0.3))#to fight overfitting\n",
    "    model.add(Dense(10,activation=tf.nn.softmax))\n",
    "    #non-optimised to optimised CNN\n",
    "    model.compile(optimizer='adam',\n",
    "              loss='sparse_categorical_crossentropy',\n",
    "              metrics=['accuracy'])\n",
    "    return model"
   ]
  },
  {
   "cell_type": "code",
   "execution_count": 13,
   "metadata": {},
   "outputs": [
    {
     "name": "stdout",
     "output_type": "stream",
     "text": [
      "Train on 60000 samples, validate on 10000 samples\n",
      "Epoch 1/10\n",
      " - 83s - loss: 0.3286 - acc: 0.9046 - val_loss: 0.1238 - val_acc: 0.9638\n",
      "Epoch 2/10\n",
      " - 82s - loss: 0.1264 - acc: 0.9636 - val_loss: 0.0784 - val_acc: 0.9752\n",
      "Epoch 3/10\n",
      " - 81s - loss: 0.0874 - acc: 0.9735 - val_loss: 0.0589 - val_acc: 0.9822\n",
      "Epoch 4/10\n",
      " - 94s - loss: 0.0652 - acc: 0.9807 - val_loss: 0.0509 - val_acc: 0.9835\n",
      "Epoch 5/10\n",
      " - 89s - loss: 0.0533 - acc: 0.9841 - val_loss: 0.0469 - val_acc: 0.9838\n",
      "Epoch 6/10\n",
      " - 88s - loss: 0.0449 - acc: 0.9863 - val_loss: 0.0485 - val_acc: 0.9845\n",
      "Epoch 7/10\n",
      " - 93s - loss: 0.0382 - acc: 0.9885 - val_loss: 0.0461 - val_acc: 0.9847\n",
      "Epoch 8/10\n",
      " - 88s - loss: 0.0337 - acc: 0.9893 - val_loss: 0.0445 - val_acc: 0.9854\n",
      "Epoch 9/10\n",
      " - 76s - loss: 0.0289 - acc: 0.9906 - val_loss: 0.0438 - val_acc: 0.9872\n",
      "Epoch 10/10\n",
      " - 76s - loss: 0.0253 - acc: 0.9918 - val_loss: 0.0437 - val_acc: 0.9855\n",
      "Baseline Error: 1.45%\n"
     ]
    }
   ],
   "source": [
    "# build the model\n",
    "model = deep_model()\n",
    "# Fit the model\n",
    "model.fit(x_train, y_train, validation_data=(x_test, y_test), epochs=10, batch_size=200, verbose=2)\n",
    "# Final evaluation of the model\n",
    "scores = model.evaluate(x_test, y_test, verbose=0)\n",
    "print(\"Baseline Error: %.2f%%\" % (100-scores[1]*100))\n"
   ]
  },
  {
   "cell_type": "code",
   "execution_count": null,
   "metadata": {},
   "outputs": [],
   "source": []
  },
  {
   "cell_type": "code",
   "execution_count": 46,
   "metadata": {},
   "outputs": [
    {
     "name": "stdout",
     "output_type": "stream",
     "text": [
      "9\n"
     ]
    },
    {
     "data": {
      "image/png": "[encoded data removed]",
      "text/plain": [
       "<Figure size 432x288 with 1 Axes>"
      ]
     },
     "metadata": {
      "needs_background": "light"
     },
     "output_type": "display_data"
    }
   ],
   "source": [
    "image_index = 7777\n",
    "plt.imshow(x_test[image_index].reshape(28, 28),cmap='Greys')\n",
    "pred = model.predict(x_test[image_index].reshape(1, 28,28, 1))\n",
    "print(pred.argmax())\n"
   ]
  },
  {
   "cell_type": "code",
   "execution_count": null,
   "metadata": {},
   "outputs": [],
   "source": []
  }
 ],
 "metadata": {
  "kernelspec": {
   "display_name": "Python 3",
   "language": "python",
   "name": "python3"
  },
  "language_info": {
   "codemirror_mode": {
    "name": "ipython",
    "version": 3
   },
   "file_extension": ".py",
   "mimetype": "text/x-python",
   "name": "python",
   "nbconvert_exporter": "python",
   "pygments_lexer": "ipython3",
   "version": "3.7.3"
  }
 },
 "nbformat": 4,
 "nbformat_minor": 2
}
